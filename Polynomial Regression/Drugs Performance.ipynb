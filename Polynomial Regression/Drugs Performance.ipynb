{
 "cells": [
  {
   "cell_type": "code",
   "execution_count": 1,
   "metadata": {},
   "outputs": [
    {
     "name": "stderr",
     "output_type": "stream",
     "text": [
      "/home/owais/anaconda3/lib/python3.7/site-packages/statsmodels/tools/_testing.py:19: FutureWarning: pandas.util.testing is deprecated. Use the functions in the public API at pandas.testing instead.\n",
      "  import pandas.util.testing as tm\n"
     ]
    }
   ],
   "source": [
    "import numpy as np\n",
    "import pandas as pd\n",
    "from sklearn.model_selection import train_test_split\n",
    "from sklearn.linear_model import LinearRegression\n",
    "import seaborn as sns\n",
    "from sklearn.preprocessing import PolynomialFeatures\n",
    "import matplotlib.pyplot as plt"
   ]
  },
  {
   "cell_type": "code",
   "execution_count": 2,
   "metadata": {},
   "outputs": [
    {
     "data": {
      "text/html": [
       "<div>\n",
       "<style scoped>\n",
       "    .dataframe tbody tr th:only-of-type {\n",
       "        vertical-align: middle;\n",
       "    }\n",
       "\n",
       "    .dataframe tbody tr th {\n",
       "        vertical-align: top;\n",
       "    }\n",
       "\n",
       "    .dataframe thead th {\n",
       "        text-align: right;\n",
       "    }\n",
       "</style>\n",
       "<table border=\"1\" class=\"dataframe\">\n",
       "  <thead>\n",
       "    <tr style=\"text-align: right;\">\n",
       "      <th></th>\n",
       "      <th>Age</th>\n",
       "      <th>Drugs_Perf</th>\n",
       "    </tr>\n",
       "  </thead>\n",
       "  <tbody>\n",
       "    <tr>\n",
       "      <th>0</th>\n",
       "      <td>1</td>\n",
       "      <td>1.166667</td>\n",
       "    </tr>\n",
       "    <tr>\n",
       "      <th>1</th>\n",
       "      <td>2</td>\n",
       "      <td>1.833333</td>\n",
       "    </tr>\n",
       "    <tr>\n",
       "      <th>2</th>\n",
       "      <td>3</td>\n",
       "      <td>2.833333</td>\n",
       "    </tr>\n",
       "    <tr>\n",
       "      <th>3</th>\n",
       "      <td>4</td>\n",
       "      <td>4.166667</td>\n",
       "    </tr>\n",
       "    <tr>\n",
       "      <th>4</th>\n",
       "      <td>5</td>\n",
       "      <td>5.833333</td>\n",
       "    </tr>\n",
       "  </tbody>\n",
       "</table>\n",
       "</div>"
      ],
      "text/plain": [
       "   Age  Drugs_Perf\n",
       "0    1    1.166667\n",
       "1    2    1.833333\n",
       "2    3    2.833333\n",
       "3    4    4.166667\n",
       "4    5    5.833333"
      ]
     },
     "execution_count": 2,
     "metadata": {},
     "output_type": "execute_result"
    }
   ],
   "source": [
    "data = pd.read_csv('Drugs_Performance.csv')\n",
    "data.head()"
   ]
  },
  {
   "cell_type": "code",
   "execution_count": 3,
   "metadata": {},
   "outputs": [],
   "source": [
    "x = data[['Age']].values"
   ]
  },
  {
   "cell_type": "code",
   "execution_count": 4,
   "metadata": {},
   "outputs": [],
   "source": [
    "y = data[['Drugs_Perf']].values"
   ]
  },
  {
   "cell_type": "code",
   "execution_count": 5,
   "metadata": {},
   "outputs": [
    {
     "name": "stdout",
     "output_type": "stream",
     "text": [
      "[[ 1]\n",
      " [ 2]\n",
      " [ 3]\n",
      " [ 4]\n",
      " [ 5]\n",
      " [ 6]\n",
      " [ 7]\n",
      " [ 8]\n",
      " [ 9]\n",
      " [10]\n",
      " [11]\n",
      " [12]\n",
      " [13]\n",
      " [14]\n",
      " [15]\n",
      " [16]\n",
      " [17]\n",
      " [18]\n",
      " [19]\n",
      " [20]\n",
      " [21]\n",
      " [22]\n",
      " [23]\n",
      " [24]\n",
      " [25]\n",
      " [26]\n",
      " [27]\n",
      " [28]\n",
      " [29]\n",
      " [30]\n",
      " [31]\n",
      " [32]\n",
      " [33]\n",
      " [34]\n",
      " [35]\n",
      " [36]\n",
      " [37]\n",
      " [38]\n",
      " [39]\n",
      " [40]\n",
      " [41]\n",
      " [42]\n",
      " [43]\n",
      " [44]\n",
      " [45]\n",
      " [46]\n",
      " [47]\n",
      " [48]\n",
      " [49]\n",
      " [50]\n",
      " [51]\n",
      " [52]\n",
      " [53]\n",
      " [54]\n",
      " [55]\n",
      " [56]\n",
      " [57]\n",
      " [58]\n",
      " [59]\n",
      " [60]\n",
      " [61]\n",
      " [62]\n",
      " [63]\n",
      " [64]\n",
      " [65]\n",
      " [66]\n",
      " [67]\n",
      " [68]\n",
      " [69]\n",
      " [70]\n",
      " [71]\n",
      " [72]\n",
      " [73]\n",
      " [74]\n",
      " [75]\n",
      " [76]\n",
      " [77]\n",
      " [78]\n",
      " [79]\n",
      " [80]\n",
      " [81]\n",
      " [82]\n",
      " [83]\n",
      " [84]]\n"
     ]
    }
   ],
   "source": [
    "print (x)"
   ]
  },
  {
   "cell_type": "code",
   "execution_count": 6,
   "metadata": {},
   "outputs": [
    {
     "name": "stdout",
     "output_type": "stream",
     "text": [
      "[[1.16666667e+00]\n",
      " [1.83333333e+00]\n",
      " [2.83333333e+00]\n",
      " [4.16666667e+00]\n",
      " [5.83333333e+00]\n",
      " [7.83333333e+00]\n",
      " [1.01666667e+01]\n",
      " [1.28333333e+01]\n",
      " [1.58333333e+01]\n",
      " [1.91666667e+01]\n",
      " [2.28333333e+01]\n",
      " [2.68333333e+01]\n",
      " [3.11666667e+01]\n",
      " [3.58333333e+01]\n",
      " [4.08333333e+01]\n",
      " [4.61666667e+01]\n",
      " [5.18333333e+01]\n",
      " [5.78333333e+01]\n",
      " [6.41666667e+01]\n",
      " [7.08333333e+01]\n",
      " [7.78333333e+01]\n",
      " [8.51666667e+01]\n",
      " [9.28333333e+01]\n",
      " [1.00833333e+02]\n",
      " [1.09166667e+02]\n",
      " [1.17833333e+02]\n",
      " [1.26833333e+02]\n",
      " [1.36166667e+02]\n",
      " [1.45833333e+02]\n",
      " [1.55833333e+02]\n",
      " [1.66166667e+02]\n",
      " [1.76833333e+02]\n",
      " [1.87833333e+02]\n",
      " [1.99166667e+02]\n",
      " [2.10833333e+02]\n",
      " [2.22833333e+02]\n",
      " [2.35166667e+02]\n",
      " [2.47833333e+02]\n",
      " [2.60833333e+02]\n",
      " [2.74166667e+02]\n",
      " [2.87833333e+02]\n",
      " [3.01833333e+02]\n",
      " [3.16166667e+02]\n",
      " [3.30833333e+02]\n",
      " [3.45833333e+02]\n",
      " [3.61166667e+02]\n",
      " [3.76833333e+02]\n",
      " [3.92833333e+02]\n",
      " [4.09166667e+02]\n",
      " [4.25833333e+02]\n",
      " [4.42833333e+02]\n",
      " [4.60166667e+02]\n",
      " [4.77833333e+02]\n",
      " [4.95833333e+02]\n",
      " [5.14166667e+02]\n",
      " [5.32833333e+02]\n",
      " [5.51833333e+02]\n",
      " [5.71166667e+02]\n",
      " [5.90833333e+02]\n",
      " [6.10833333e+02]\n",
      " [6.31166667e+02]\n",
      " [6.51833333e+02]\n",
      " [6.72833333e+02]\n",
      " [6.94166667e+02]\n",
      " [7.15833333e+02]\n",
      " [7.37833333e+02]\n",
      " [7.60166667e+02]\n",
      " [7.82833333e+02]\n",
      " [8.05833333e+02]\n",
      " [8.29166667e+02]\n",
      " [8.52833333e+02]\n",
      " [8.76833333e+02]\n",
      " [9.01166667e+02]\n",
      " [9.25833333e+02]\n",
      " [9.50833333e+02]\n",
      " [9.76166667e+02]\n",
      " [1.00183333e+03]\n",
      " [1.02783333e+03]\n",
      " [1.05416667e+03]\n",
      " [1.08083333e+03]\n",
      " [1.10783333e+03]\n",
      " [1.13516667e+03]\n",
      " [1.16283333e+03]\n",
      " [1.19083333e+03]]\n"
     ]
    }
   ],
   "source": [
    "print(y)"
   ]
  },
  {
   "cell_type": "code",
   "execution_count": 7,
   "metadata": {},
   "outputs": [
    {
     "data": {
      "image/png": "[encoded data removed]",
      "text/plain": [
       "<Figure size 432x288 with 1 Axes>"
      ]
     },
     "metadata": {
      "needs_background": "light"
     },
     "output_type": "display_data"
    }
   ],
   "source": [
    "plt.plot(x,y)\n",
    "plt.show()"
   ]
  },
  {
   "cell_type": "code",
   "execution_count": 8,
   "metadata": {},
   "outputs": [],
   "source": [
    "x_train,x_test,y_train,y_test = train_test_split(x,y,test_size=0.3,random_state=100)"
   ]
  },
  {
   "cell_type": "code",
   "execution_count": 9,
   "metadata": {},
   "outputs": [],
   "source": [
    "poly = PolynomialFeatures(degree = 2)\n",
    "x_poly = poly.fit_transform(x_train)\n",
    "# poly.fit(x_poly, y_train)"
   ]
  },
  {
   "cell_type": "code",
   "execution_count": 10,
   "metadata": {},
   "outputs": [
    {
     "data": {
      "text/plain": [
       "array([[1.000e+00, 4.100e+01, 1.681e+03],\n",
       "       [1.000e+00, 5.800e+01, 3.364e+03],\n",
       "       [1.000e+00, 2.200e+01, 4.840e+02],\n",
       "       [1.000e+00, 7.000e+01, 4.900e+03],\n",
       "       [1.000e+00, 4.700e+01, 2.209e+03],\n",
       "       [1.000e+00, 3.600e+01, 1.296e+03],\n",
       "       [1.000e+00, 6.200e+01, 3.844e+03],\n",
       "       [1.000e+00, 8.400e+01, 7.056e+03],\n",
       "       [1.000e+00, 1.800e+01, 3.240e+02],\n",
       "       [1.000e+00, 7.900e+01, 6.241e+03],\n",
       "       [1.000e+00, 4.400e+01, 1.936e+03],\n",
       "       [1.000e+00, 1.000e+00, 1.000e+00],\n",
       "       [1.000e+00, 1.900e+01, 3.610e+02],\n",
       "       [1.000e+00, 3.900e+01, 1.521e+03],\n",
       "       [1.000e+00, 4.000e+01, 1.600e+03],\n",
       "       [1.000e+00, 4.600e+01, 2.116e+03],\n",
       "       [1.000e+00, 5.700e+01, 3.249e+03],\n",
       "       [1.000e+00, 7.400e+01, 5.476e+03],\n",
       "       [1.000e+00, 6.000e+01, 3.600e+03],\n",
       "       [1.000e+00, 3.100e+01, 9.610e+02],\n",
       "       [1.000e+00, 4.200e+01, 1.764e+03],\n",
       "       [1.000e+00, 7.600e+01, 5.776e+03],\n",
       "       [1.000e+00, 6.900e+01, 4.761e+03],\n",
       "       [1.000e+00, 5.500e+01, 3.025e+03],\n",
       "       [1.000e+00, 7.500e+01, 5.625e+03],\n",
       "       [1.000e+00, 6.300e+01, 3.969e+03],\n",
       "       [1.000e+00, 4.800e+01, 2.304e+03],\n",
       "       [1.000e+00, 5.000e+01, 2.500e+03],\n",
       "       [1.000e+00, 8.000e+00, 6.400e+01],\n",
       "       [1.000e+00, 4.000e+00, 1.600e+01],\n",
       "       [1.000e+00, 6.600e+01, 4.356e+03],\n",
       "       [1.000e+00, 6.500e+01, 4.225e+03],\n",
       "       [1.000e+00, 3.700e+01, 1.369e+03],\n",
       "       [1.000e+00, 2.000e+01, 4.000e+02],\n",
       "       [1.000e+00, 7.700e+01, 5.929e+03],\n",
       "       [1.000e+00, 1.400e+01, 1.960e+02],\n",
       "       [1.000e+00, 2.000e+00, 4.000e+00],\n",
       "       [1.000e+00, 3.200e+01, 1.024e+03],\n",
       "       [1.000e+00, 5.000e+00, 2.500e+01],\n",
       "       [1.000e+00, 2.800e+01, 7.840e+02],\n",
       "       [1.000e+00, 3.000e+00, 9.000e+00],\n",
       "       [1.000e+00, 1.000e+01, 1.000e+02],\n",
       "       [1.000e+00, 1.700e+01, 2.890e+02],\n",
       "       [1.000e+00, 5.900e+01, 3.481e+03],\n",
       "       [1.000e+00, 6.100e+01, 3.721e+03],\n",
       "       [1.000e+00, 1.600e+01, 2.560e+02],\n",
       "       [1.000e+00, 8.300e+01, 6.889e+03],\n",
       "       [1.000e+00, 3.500e+01, 1.225e+03],\n",
       "       [1.000e+00, 1.500e+01, 2.250e+02],\n",
       "       [1.000e+00, 6.700e+01, 4.489e+03],\n",
       "       [1.000e+00, 5.400e+01, 2.916e+03],\n",
       "       [1.000e+00, 5.300e+01, 2.809e+03],\n",
       "       [1.000e+00, 1.100e+01, 1.210e+02],\n",
       "       [1.000e+00, 4.900e+01, 2.401e+03],\n",
       "       [1.000e+00, 8.000e+01, 6.400e+03],\n",
       "       [1.000e+00, 6.800e+01, 4.624e+03],\n",
       "       [1.000e+00, 2.500e+01, 6.250e+02],\n",
       "       [1.000e+00, 9.000e+00, 8.100e+01]])"
      ]
     },
     "execution_count": 10,
     "metadata": {},
     "output_type": "execute_result"
    }
   ],
   "source": [
    "x_poly"
   ]
  },
  {
   "cell_type": "code",
   "execution_count": 11,
   "metadata": {},
   "outputs": [
    {
     "data": {
      "text/plain": [
       "LinearRegression(copy_X=True, fit_intercept=True, n_jobs=None, normalize=False)"
      ]
     },
     "execution_count": 11,
     "metadata": {},
     "output_type": "execute_result"
    }
   ],
   "source": [
    "model=LinearRegression()\n",
    "model.fit(x_poly,y_train)"
   ]
  },
  {
   "cell_type": "code",
   "execution_count": 12,
   "metadata": {},
   "outputs": [],
   "source": [
    "y_predict = model.predict(poly.fit_transform(x))"
   ]
  },
  {
   "cell_type": "code",
   "execution_count": 13,
   "metadata": {},
   "outputs": [
    {
     "data": {
      "image/png": "[encoded data removed]",
      "text/plain": [
       "<Figure size 432x288 with 1 Axes>"
      ]
     },
     "metadata": {
      "needs_background": "light"
     },
     "output_type": "display_data"
    }
   ],
   "source": [
    "plt.scatter(x,y,color='orange')\n",
    "plt.plot(x,y_predict)\n",
    "plt.title('Polynomial Regression')\n",
    "plt.xlabel('age')\n",
    "plt.ylabel('Drugs performance')\n",
    "plt.show()"
   ]
  },
  {
   "cell_type": "code",
   "execution_count": 14,
   "metadata": {},
   "outputs": [
    {
     "name": "stdout",
     "output_type": "stream",
     "text": [
      "[[1.16666664e+00]\n",
      " [1.83333331e+00]\n",
      " [2.83333331e+00]\n",
      " [4.16666665e+00]\n",
      " [5.83333332e+00]\n",
      " [7.83333332e+00]\n",
      " [1.01666667e+01]\n",
      " [1.28333333e+01]\n",
      " [1.58333333e+01]\n",
      " [1.91666667e+01]\n",
      " [2.28333333e+01]\n",
      " [2.68333333e+01]\n",
      " [3.11666667e+01]\n",
      " [3.58333333e+01]\n",
      " [4.08333333e+01]\n",
      " [4.61666667e+01]\n",
      " [5.18333333e+01]\n",
      " [5.78333333e+01]\n",
      " [6.41666667e+01]\n",
      " [7.08333333e+01]\n",
      " [7.78333333e+01]\n",
      " [8.51666667e+01]\n",
      " [9.28333334e+01]\n",
      " [1.00833333e+02]\n",
      " [1.09166667e+02]\n",
      " [1.17833333e+02]\n",
      " [1.26833333e+02]\n",
      " [1.36166667e+02]\n",
      " [1.45833333e+02]\n",
      " [1.55833333e+02]\n",
      " [1.66166667e+02]\n",
      " [1.76833333e+02]\n",
      " [1.87833333e+02]\n",
      " [1.99166667e+02]\n",
      " [2.10833333e+02]\n",
      " [2.22833333e+02]\n",
      " [2.35166667e+02]\n",
      " [2.47833333e+02]\n",
      " [2.60833333e+02]\n",
      " [2.74166667e+02]\n",
      " [2.87833333e+02]\n",
      " [3.01833333e+02]\n",
      " [3.16166667e+02]\n",
      " [3.30833333e+02]\n",
      " [3.45833333e+02]\n",
      " [3.61166667e+02]\n",
      " [3.76833333e+02]\n",
      " [3.92833333e+02]\n",
      " [4.09166667e+02]\n",
      " [4.25833333e+02]\n",
      " [4.42833333e+02]\n",
      " [4.60166667e+02]\n",
      " [4.77833333e+02]\n",
      " [4.95833333e+02]\n",
      " [5.14166667e+02]\n",
      " [5.32833333e+02]\n",
      " [5.51833333e+02]\n",
      " [5.71166667e+02]\n",
      " [5.90833333e+02]\n",
      " [6.10833333e+02]\n",
      " [6.31166667e+02]\n",
      " [6.51833333e+02]\n",
      " [6.72833333e+02]\n",
      " [6.94166667e+02]\n",
      " [7.15833333e+02]\n",
      " [7.37833333e+02]\n",
      " [7.60166667e+02]\n",
      " [7.82833333e+02]\n",
      " [8.05833333e+02]\n",
      " [8.29166667e+02]\n",
      " [8.52833333e+02]\n",
      " [8.76833333e+02]\n",
      " [9.01166667e+02]\n",
      " [9.25833333e+02]\n",
      " [9.50833333e+02]\n",
      " [9.76166667e+02]\n",
      " [1.00183333e+03]\n",
      " [1.02783333e+03]\n",
      " [1.05416667e+03]\n",
      " [1.08083333e+03]\n",
      " [1.10783333e+03]\n",
      " [1.13516667e+03]\n",
      " [1.16283333e+03]\n",
      " [1.19083333e+03]]\n"
     ]
    }
   ],
   "source": [
    "print(y_predict)"
   ]
  },
  {
   "cell_type": "code",
   "execution_count": 15,
   "metadata": {},
   "outputs": [
    {
     "name": "stdout",
     "output_type": "stream",
     "text": [
      "34183.33333148771\n",
      "10222.333332762999\n",
      "So called Accuracy  3.343985391469159\n"
     ]
    }
   ],
   "source": [
    "print(y_predict.sum().mean())\n",
    "print(y_test.sum().mean())\n",
    "\n",
    "print(\"So called Accuracy \", y_predict.sum().mean()/y_test.sum().mean())"
   ]
  },
  {
   "cell_type": "code",
   "execution_count": null,
   "metadata": {},
   "outputs": [],
   "source": []
  }
 ],
 "metadata": {
  "kernelspec": {
   "display_name": "Python 3",
   "language": "python",
   "name": "python3"
  },
  "language_info": {
   "codemirror_mode": {
    "name": "ipython",
    "version": 3
   },
   "file_extension": ".py",
   "mimetype": "text/x-python",
   "name": "python",
   "nbconvert_exporter": "python",
   "pygments_lexer": "ipython3",
   "version": "3.7.4"
  }
 },
 "nbformat": 4,
 "nbformat_minor": 2
}
